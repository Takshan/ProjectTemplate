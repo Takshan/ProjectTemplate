{
 "cells": [
  {
   "cell_type": "code",
   "execution_count": 1,
   "id": "5a2ce7ed",
   "metadata": {
    "ExecuteTime": {
     "end_time": "2021-09-07T11:50:46.034018Z",
     "start_time": "2021-09-07T11:50:45.210858Z"
    }
   },
   "outputs": [],
   "source": [
    "import sys\n",
    "sys.path.append(\"/home/lab09/PACKAGES/csfdock/src/\")\n",
    "from csfdock.ar2a_v3 import *\n",
    "\n",
    "def main():\n",
    "    \n",
    "    mol3 = ProjectStart()\n",
    "    mol3.LoadReceptor(\"3kl6\")\n",
    "    mol3.ShowMolecules()\n",
    "    print(\"12121----------------------------------2121\")\n",
    "        \n",
    "    mol3.LoadBox([7.25883, 2.490, -12.1634], [20.5483, 20, 16.7519])\n",
    "    mol3.ShowMolecules()\n",
    "    print(\"2222222222-------------------------222222222222\")\n",
    "    \n",
    "    mol3.LoadLipid(\"./DATA/3eml_eqEND_a2a.pdb\")\n",
    "    mol3.ShowMolecules()\n",
    "\n",
    "    \n",
    "    print(\"333------------------------------------3333\")\n",
    "    mol3.LoadLigand(\"./Generated/data/3eml_small_molecule5.sdf\")\n",
    "    mol3.ShowMolecules()\n",
    "    \n",
    "    print(mol3)\n",
    "    mol3.SaveComplex()\n",
    "    mol3.ProjectTree(verbose=False) #verbose to display the tree\n",
    "    del mol3 # delete the object if no use and release from memory\n",
    "    try:\n",
    "        print(mol3) # verify it exists or not\n",
    "    except UnboundLocalError as er:\n",
    "        print(\"Deleted the object from memory\")"
   ]
  },
  {
   "cell_type": "code",
   "execution_count": 2,
   "id": "2f90cf8c",
   "metadata": {
    "ExecuteTime": {
     "end_time": "2021-09-07T11:50:52.536249Z",
     "start_time": "2021-09-07T11:50:46.035350Z"
    },
    "scrolled": false
   },
   "outputs": [
    {
     "name": "stdout",
     "output_type": "stream",
     "text": [
      "No Receptor found in Local directory\n",
      "Would you like to download the 3kl6 from RCSB (Y/n)? y\n"
     ]
    },
    {
     "data": {
      "text/html": [
       "<pre style=\"white-space:pre;overflow-x:auto;line-height:normal;font-family:Menlo,'DejaVu Sans Mono',consolas,'Courier New',monospace\">Succcesfully executed downloading of 3kl6.pdb in .<span style=\"color: #800080; text-decoration-color: #800080\">/</span><span style=\"color: #ff00ff; text-decoration-color: #ff00ff\">Generated</span> folder.\n",
       "</pre>\n"
      ],
      "text/plain": [
       "Succcesfully executed downloading of 3kl6.pdb in .\u001b[35m/\u001b[0m\u001b[95mGenerated\u001b[0m folder.\n"
      ]
     },
     "metadata": {},
     "output_type": "display_data"
    },
    {
     "data": {
      "text/html": [
       "<pre style=\"white-space:pre;overflow-x:auto;line-height:normal;font-family:Menlo,'DejaVu Sans Mono',consolas,'Courier New',monospace\">\n",
       "For<span style=\"color: #800000; text-decoration-color: #800000; font-weight: bold\"> ./Generated/3kl6.pdb</span>:\n",
       "</pre>\n"
      ],
      "text/plain": [
       "\n",
       "For\u001b[1;31m .\u001b[0m\u001b[1;31m/Generated/\u001b[0m\u001b[1;31m3kl6.pdb\u001b[0m:\n"
      ]
     },
     "metadata": {},
     "output_type": "display_data"
    },
    {
     "data": {
      "text/html": [
       "<pre style=\"white-space:pre;overflow-x:auto;line-height:normal;font-family:Menlo,'DejaVu Sans Mono',consolas,'Courier New',monospace\">┏━━━━━━━━━━━━━━━━━━━━━━━━━━━━━━━━━━━━━━━━━━┳━━━━━━━━━┓\n",
       "┃<span style=\"color: #000080; text-decoration-color: #000080; font-weight: bold\"> Record                                   </span>┃<span style=\"color: #000080; text-decoration-color: #000080; font-weight: bold\">  Counts </span>┃\n",
       "┡━━━━━━━━━━━━━━━━━━━━━━━━━━━━━━━━━━━━━━━━━━╇━━━━━━━━━┩\n",
       "│<span style=\"color: #7f7f7f; text-decoration-color: #7f7f7f\"> </span><span style=\"color: #7fbf7f; text-decoration-color: #7fbf7f; font-weight: bold\">Chains:</span><span style=\"color: #7f7f7f; text-decoration-color: #7f7f7f\">                                  </span>│       2 │\n",
       "│<span style=\"color: #7f7f7f; text-decoration-color: #7f7f7f\"> </span><span style=\"color: #7fbf7f; text-decoration-color: #7fbf7f; font-weight: bold\">Ligands:</span><span style=\"color: #7f7f7f; text-decoration-color: #7f7f7f\">                                 </span>│       2 │\n",
       "│<span style=\"color: #7f7f7f; text-decoration-color: #7f7f7f\"> </span><span style=\"color: #7fbf7f; text-decoration-color: #7fbf7f; font-weight: bold\">Number of ligand atoms :</span><span style=\"color: #7f7f7f; text-decoration-color: #7f7f7f\">                 </span>│      44 │\n",
       "│<span style=\"color: #7f7f7f; text-decoration-color: #7f7f7f\"> </span><span style=\"color: #7fbf7f; text-decoration-color: #7fbf7f; font-weight: bold\">Protein residues:</span><span style=\"color: #7f7f7f; text-decoration-color: #7f7f7f\">                        </span>│      48 │\n",
       "│<span style=\"color: #7f7f7f; text-decoration-color: #7f7f7f\"> </span><span style=\"color: #7fbf7f; text-decoration-color: #7fbf7f; font-weight: bold\">Lipids molecules :</span><span style=\"color: #7f7f7f; text-decoration-color: #7f7f7f\">                       </span>│       0 │\n",
       "│<span style=\"color: #7f7f7f; text-decoration-color: #7f7f7f\"> </span><span style=\"color: #7fbf7f; text-decoration-color: #7fbf7f; font-weight: bold\">Water molecules :</span><span style=\"color: #7f7f7f; text-decoration-color: #7f7f7f\">                        </span>│     204 │\n",
       "│<span style=\"color: #7f7f7f; text-decoration-color: #7f7f7f\"> </span><span style=\"color: #7fbf7f; text-decoration-color: #7fbf7f; font-weight: bold\">Ions:</span><span style=\"color: #7f7f7f; text-decoration-color: #7f7f7f\">                                    </span>│       3 │\n",
       "│<span style=\"color: #7f7f7f; text-decoration-color: #7f7f7f\"> </span><span style=\"color: #7fbf7f; text-decoration-color: #7fbf7f; font-weight: bold\">Ion types :</span><span style=\"color: #7f7f7f; text-decoration-color: #7f7f7f\">                              </span>│ {' CA'} │\n",
       "└──────────────────────────────────────────┴─────────┘\n",
       "</pre>\n"
      ],
      "text/plain": [
       "┏━━━━━━━━━━━━━━━━━━━━━━━━━━━━━━━━━━━━━━━━━━┳━━━━━━━━━┓\n",
       "┃\u001b[1;34m \u001b[0m\u001b[1;34mRecord                                  \u001b[0m\u001b[1;34m \u001b[0m┃\u001b[1;34m \u001b[0m\u001b[1;34m Counts\u001b[0m\u001b[1;34m \u001b[0m┃\n",
       "┡━━━━━━━━━━━━━━━━━━━━━━━━━━━━━━━━━━━━━━━━━━╇━━━━━━━━━┩\n",
       "│\u001b[2m \u001b[0m\u001b[1;2;32mChains:\u001b[0m\u001b[2m                                 \u001b[0m\u001b[2m \u001b[0m│       2 │\n",
       "│\u001b[2m \u001b[0m\u001b[1;2;32mLigands:\u001b[0m\u001b[2m                                \u001b[0m\u001b[2m \u001b[0m│       2 │\n",
       "│\u001b[2m \u001b[0m\u001b[1;2;32mNumber of ligand atoms :\u001b[0m\u001b[2m                \u001b[0m\u001b[2m \u001b[0m│      44 │\n",
       "│\u001b[2m \u001b[0m\u001b[1;2;32mProtein residues:\u001b[0m\u001b[2m                       \u001b[0m\u001b[2m \u001b[0m│      48 │\n",
       "│\u001b[2m \u001b[0m\u001b[1;2;32mLipids molecules :\u001b[0m\u001b[2m                      \u001b[0m\u001b[2m \u001b[0m│       0 │\n",
       "│\u001b[2m \u001b[0m\u001b[1;2;32mWater molecules :\u001b[0m\u001b[2m                       \u001b[0m\u001b[2m \u001b[0m│     204 │\n",
       "│\u001b[2m \u001b[0m\u001b[1;2;32mIons:\u001b[0m\u001b[2m                                   \u001b[0m\u001b[2m \u001b[0m│       3 │\n",
       "│\u001b[2m \u001b[0m\u001b[1;2;32mIon types :\u001b[0m\u001b[2m                             \u001b[0m\u001b[2m \u001b[0m│ {' CA'} │\n",
       "└──────────────────────────────────────────┴─────────┘\n"
      ]
     },
     "metadata": {},
     "output_type": "display_data"
    },
    {
     "data": {
      "application/vnd.jupyter.widget-view+json": {
       "model_id": "a5dbf42014b94c0bacf0e6f108ab831c",
       "version_major": 2,
       "version_minor": 0
      },
      "text/plain": [
       "interactive(children=(Output(),), _dom_classes=('widget-interact',))"
      ]
     },
     "metadata": {},
     "output_type": "display_data"
    },
    {
     "name": "stdout",
     "output_type": "stream",
     "text": [
      "12121----------------------------------2121\n"
     ]
    },
    {
     "data": {
      "application/vnd.jupyter.widget-view+json": {
       "model_id": "a7f09a3d2c364e2d9e5c157fcf792f8f",
       "version_major": 2,
       "version_minor": 0
      },
      "text/plain": [
       "interactive(children=(Output(),), _dom_classes=('widget-interact',))"
      ]
     },
     "metadata": {},
     "output_type": "display_data"
    },
    {
     "name": "stdout",
     "output_type": "stream",
     "text": [
      "2222222222-------------------------222222222222\n"
     ]
    },
    {
     "data": {
      "text/html": [
       "<pre style=\"white-space:pre;overflow-x:auto;line-height:normal;font-family:Menlo,'DejaVu Sans Mono',consolas,'Courier New',monospace\">Lipid: <span style=\"font-weight: bold\">.</span><span style=\"color: #800080; text-decoration-color: #800080; font-weight: bold\">/DATA/</span><span style=\"color: #ff00ff; text-decoration-color: #ff00ff; font-weight: bold\">3eml_eqEND_a2a.pdb</span>\n",
       "</pre>\n"
      ],
      "text/plain": [
       "Lipid: \u001b[1m.\u001b[0m\u001b[1;35m/DATA/\u001b[0m\u001b[1;95m3eml_eqEND_a2a.pdb\u001b[0m\n"
      ]
     },
     "metadata": {},
     "output_type": "display_data"
    },
    {
     "data": {
      "text/html": [
       "<pre style=\"white-space:pre;overflow-x:auto;line-height:normal;font-family:Menlo,'DejaVu Sans Mono',consolas,'Courier New',monospace\">\n",
       "For<span style=\"color: #800000; text-decoration-color: #800000; font-weight: bold\"> ./DATA/3eml_eqEND_a2a.pdb</span>:\n",
       "</pre>\n"
      ],
      "text/plain": [
       "\n",
       "For\u001b[1;31m .\u001b[0m\u001b[1;31m/DATA/\u001b[0m\u001b[1;31m3eml_eqEND_a2a.pdb\u001b[0m:\n"
      ]
     },
     "metadata": {},
     "output_type": "display_data"
    },
    {
     "data": {
      "text/html": [
       "<pre style=\"white-space:pre;overflow-x:auto;line-height:normal;font-family:Menlo,'DejaVu Sans Mono',consolas,'Courier New',monospace\">┏━━━━━━━━━━━━━━━━━━━━━━━━━━━━━━━━━━━━━━━━━━┳━━━━━━━━━━━━━━━━┓\n",
       "┃<span style=\"color: #000080; text-decoration-color: #000080; font-weight: bold\"> Record                                   </span>┃<span style=\"color: #000080; text-decoration-color: #000080; font-weight: bold\">         Counts </span>┃\n",
       "┡━━━━━━━━━━━━━━━━━━━━━━━━━━━━━━━━━━━━━━━━━━╇━━━━━━━━━━━━━━━━┩\n",
       "│<span style=\"color: #7f7f7f; text-decoration-color: #7f7f7f\"> </span><span style=\"color: #7fbf7f; text-decoration-color: #7fbf7f; font-weight: bold\">Chains:</span><span style=\"color: #7f7f7f; text-decoration-color: #7f7f7f\">                                  </span>│              1 │\n",
       "│<span style=\"color: #7f7f7f; text-decoration-color: #7f7f7f\"> </span><span style=\"color: #7fbf7f; text-decoration-color: #7fbf7f; font-weight: bold\">Ligands:</span><span style=\"color: #7f7f7f; text-decoration-color: #7f7f7f\">                                 </span>│              1 │\n",
       "│<span style=\"color: #7f7f7f; text-decoration-color: #7f7f7f\"> </span><span style=\"color: #7fbf7f; text-decoration-color: #7fbf7f; font-weight: bold\">Number of ligand atoms :</span><span style=\"color: #7f7f7f; text-decoration-color: #7f7f7f\">                 </span>│             47 │\n",
       "│<span style=\"color: #7f7f7f; text-decoration-color: #7f7f7f\"> </span><span style=\"color: #7fbf7f; text-decoration-color: #7fbf7f; font-weight: bold\">Protein residues:</span><span style=\"color: #7f7f7f; text-decoration-color: #7f7f7f\">                        </span>│            472 │\n",
       "│<span style=\"color: #7f7f7f; text-decoration-color: #7f7f7f\"> </span><span style=\"color: #7fbf7f; text-decoration-color: #7fbf7f; font-weight: bold\">Lipids molecules :</span><span style=\"color: #7f7f7f; text-decoration-color: #7f7f7f\">                       </span>│            225 │\n",
       "│<span style=\"color: #7f7f7f; text-decoration-color: #7f7f7f\"> </span><span style=\"color: #7fbf7f; text-decoration-color: #7fbf7f; font-weight: bold\">Water molecules :</span><span style=\"color: #7f7f7f; text-decoration-color: #7f7f7f\">                        </span>│          61374 │\n",
       "│<span style=\"color: #7f7f7f; text-decoration-color: #7f7f7f\"> </span><span style=\"color: #7fbf7f; text-decoration-color: #7fbf7f; font-weight: bold\">Ions:</span><span style=\"color: #7f7f7f; text-decoration-color: #7f7f7f\">                                    </span>│            127 │\n",
       "│<span style=\"color: #7f7f7f; text-decoration-color: #7f7f7f\"> </span><span style=\"color: #7fbf7f; text-decoration-color: #7fbf7f; font-weight: bold\">Ion types :</span><span style=\"color: #7f7f7f; text-decoration-color: #7f7f7f\">                              </span>│ {'SOD', 'CLA'} │\n",
       "└──────────────────────────────────────────┴────────────────┘\n",
       "</pre>\n"
      ],
      "text/plain": [
       "┏━━━━━━━━━━━━━━━━━━━━━━━━━━━━━━━━━━━━━━━━━━┳━━━━━━━━━━━━━━━━┓\n",
       "┃\u001b[1;34m \u001b[0m\u001b[1;34mRecord                                  \u001b[0m\u001b[1;34m \u001b[0m┃\u001b[1;34m \u001b[0m\u001b[1;34m        Counts\u001b[0m\u001b[1;34m \u001b[0m┃\n",
       "┡━━━━━━━━━━━━━━━━━━━━━━━━━━━━━━━━━━━━━━━━━━╇━━━━━━━━━━━━━━━━┩\n",
       "│\u001b[2m \u001b[0m\u001b[1;2;32mChains:\u001b[0m\u001b[2m                                 \u001b[0m\u001b[2m \u001b[0m│              1 │\n",
       "│\u001b[2m \u001b[0m\u001b[1;2;32mLigands:\u001b[0m\u001b[2m                                \u001b[0m\u001b[2m \u001b[0m│              1 │\n",
       "│\u001b[2m \u001b[0m\u001b[1;2;32mNumber of ligand atoms :\u001b[0m\u001b[2m                \u001b[0m\u001b[2m \u001b[0m│             47 │\n",
       "│\u001b[2m \u001b[0m\u001b[1;2;32mProtein residues:\u001b[0m\u001b[2m                       \u001b[0m\u001b[2m \u001b[0m│            472 │\n",
       "│\u001b[2m \u001b[0m\u001b[1;2;32mLipids molecules :\u001b[0m\u001b[2m                      \u001b[0m\u001b[2m \u001b[0m│            225 │\n",
       "│\u001b[2m \u001b[0m\u001b[1;2;32mWater molecules :\u001b[0m\u001b[2m                       \u001b[0m\u001b[2m \u001b[0m│          61374 │\n",
       "│\u001b[2m \u001b[0m\u001b[1;2;32mIons:\u001b[0m\u001b[2m                                   \u001b[0m\u001b[2m \u001b[0m│            127 │\n",
       "│\u001b[2m \u001b[0m\u001b[1;2;32mIon types :\u001b[0m\u001b[2m                             \u001b[0m\u001b[2m \u001b[0m│ {'SOD', 'CLA'} │\n",
       "└──────────────────────────────────────────┴────────────────┘\n"
      ]
     },
     "metadata": {},
     "output_type": "display_data"
    },
    {
     "data": {
      "application/vnd.jupyter.widget-view+json": {
       "model_id": "7de553f2c72d4b28bfebc2a6ec3822b9",
       "version_major": 2,
       "version_minor": 0
      },
      "text/plain": [
       "interactive(children=(Output(),), _dom_classes=('widget-interact',))"
      ]
     },
     "metadata": {},
     "output_type": "display_data"
    },
    {
     "name": "stdout",
     "output_type": "stream",
     "text": [
      "333------------------------------------3333\n"
     ]
    },
    {
     "data": {
      "text/html": [
       "<pre style=\"white-space:pre;overflow-x:auto;line-height:normal;font-family:Menlo,'DejaVu Sans Mono',consolas,'Courier New',monospace\">.<span style=\"color: #800080; text-decoration-color: #800080\">/Generated/data/</span><span style=\"color: #ff00ff; text-decoration-color: #ff00ff\">3eml_small_molecule5.sdf</span> has <span style=\"color: #008080; text-decoration-color: #008080; font-weight: bold\">25</span> atoms\n",
       "</pre>\n"
      ],
      "text/plain": [
       ".\u001b[35m/Generated/data/\u001b[0m\u001b[95m3eml_small_molecule5.sdf\u001b[0m has \u001b[1;36m25\u001b[0m atoms\n"
      ]
     },
     "metadata": {},
     "output_type": "display_data"
    },
    {
     "data": {
      "application/vnd.jupyter.widget-view+json": {
       "model_id": "dc7b418411424d599188119257271da3",
       "version_major": 2,
       "version_minor": 0
      },
      "text/plain": [
       "interactive(children=(Output(),), _dom_classes=('widget-interact',))"
      ]
     },
     "metadata": {},
     "output_type": "display_data"
    },
    {
     "name": "stdout",
     "output_type": "stream",
     "text": [
      "Project : \t\n",
      "Protein: ./Generated/3kl6.pdb\t\n",
      "ligand :./Generated/data/3eml_small_molecule5.sdf\t\n",
      "Lipid : ./DATA/3eml_eqEND_a2a.pdb \n"
     ]
    },
    {
     "data": {
      "text/html": [
       "<pre style=\"white-space:pre;overflow-x:auto;line-height:normal;font-family:Menlo,'DejaVu Sans Mono',consolas,'Courier New',monospace\"><span style=\"color: #008000; text-decoration-color: #008000; font-weight: bold\">complex_out_3.pdb Saved Successfully!</span>\n",
       "</pre>\n"
      ],
      "text/plain": [
       "\u001b[1;32mcomplex_out_3.pdb Saved Successfully!\u001b[0m\n"
      ]
     },
     "metadata": {},
     "output_type": "display_data"
    },
    {
     "data": {
      "text/html": [
       "<pre style=\"white-space:pre;overflow-x:auto;line-height:normal;font-family:Menlo,'DejaVu Sans Mono',consolas,'Courier New',monospace\"><span style=\"color: #008000; text-decoration-color: #008000; font-weight: bold\">Supported File Format :{</span><span style=\"color: #008000; text-decoration-color: #008000\">'csv'</span><span style=\"color: #008000; text-decoration-color: #008000; font-weight: bold\">, </span><span style=\"color: #008000; text-decoration-color: #008000\">'pdbqt'</span><span style=\"color: #008000; text-decoration-color: #008000; font-weight: bold\">, </span><span style=\"color: #008000; text-decoration-color: #008000\">'pdb'</span><span style=\"color: #008000; text-decoration-color: #008000; font-weight: bold\">, </span><span style=\"color: #008000; text-decoration-color: #008000\">'pickle'</span><span style=\"color: #008000; text-decoration-color: #008000; font-weight: bold\">, </span><span style=\"color: #008000; text-decoration-color: #008000\">'sdf'</span><span style=\"color: #008000; text-decoration-color: #008000; font-weight: bold\">, </span><span style=\"color: #008000; text-decoration-color: #008000\">'excel'</span><span style=\"color: #008000; text-decoration-color: #008000; font-weight: bold\">, </span><span style=\"color: #008000; text-decoration-color: #008000\">'txt'</span><span style=\"color: #008000; text-decoration-color: #008000; font-weight: bold\">}</span>\n",
       "</pre>\n"
      ],
      "text/plain": [
       "\u001b[1;32mSupported File Format :\u001b[0m\u001b[1;32m{\u001b[0m\u001b[32m'csv'\u001b[0m\u001b[1;32m, \u001b[0m\u001b[32m'pdbqt'\u001b[0m\u001b[1;32m, \u001b[0m\u001b[32m'pdb'\u001b[0m\u001b[1;32m, \u001b[0m\u001b[32m'pickle'\u001b[0m\u001b[1;32m, \u001b[0m\u001b[32m'sdf'\u001b[0m\u001b[1;32m, \u001b[0m\u001b[32m'excel'\u001b[0m\u001b[1;32m, \u001b[0m\u001b[32m'txt'\u001b[0m\u001b[1;32m}\u001b[0m\n"
      ]
     },
     "metadata": {},
     "output_type": "display_data"
    },
    {
     "data": {
      "text/html": [
       "<pre style=\"white-space:pre;overflow-x:auto;line-height:normal;font-family:Menlo,'DejaVu Sans Mono',consolas,'Courier New',monospace\">============Details of <span style=\"color: #808000; text-decoration-color: #808000\">files</span>====================\n",
       "</pre>\n"
      ],
      "text/plain": [
       "============Details of \u001b[33mfiles\u001b[0m====================\n"
      ]
     },
     "metadata": {},
     "output_type": "display_data"
    },
    {
     "data": {
      "text/html": [
       "<pre style=\"white-space:pre;overflow-x:auto;line-height:normal;font-family:Menlo,'DejaVu Sans Mono',consolas,'Courier New',monospace\">┏━━━━━━━━━━━━━━━━━━━━━━━━━━━━━━━━━━━━━━━━━━┳━━━━━━━━━━━━━┓\n",
       "┃<span style=\"color: #800080; text-decoration-color: #800080; font-weight: bold\"> File Type                                </span>┃<span style=\"color: #800080; text-decoration-color: #800080; font-weight: bold\"> Total Files </span>┃\n",
       "┡━━━━━━━━━━━━━━━━━━━━━━━━━━━━━━━━━━━━━━━━━━╇━━━━━━━━━━━━━┩\n",
       "│<span style=\"color: #7f7f7f; text-decoration-color: #7f7f7f\"> </span><span style=\"color: #7fbf7f; text-decoration-color: #7fbf7f; font-weight: bold\">pdb</span><span style=\"color: #7f7f7f; text-decoration-color: #7f7f7f\">                                      </span>│          <span style=\"color: #800000; text-decoration-color: #800000\">68</span> │\n",
       "│<span style=\"color: #7f7f7f; text-decoration-color: #7f7f7f\"> </span><span style=\"color: #7fbf7f; text-decoration-color: #7fbf7f; font-weight: bold\">txt</span><span style=\"color: #7f7f7f; text-decoration-color: #7f7f7f\">                                      </span>│          <span style=\"color: #800000; text-decoration-color: #800000\">68</span> │\n",
       "│<span style=\"color: #7f7f7f; text-decoration-color: #7f7f7f\"> </span><span style=\"color: #7fbf7f; text-decoration-color: #7fbf7f; font-weight: bold\">sdf</span><span style=\"color: #7f7f7f; text-decoration-color: #7f7f7f\">                                      </span>│          <span style=\"color: #800000; text-decoration-color: #800000\">14</span> │\n",
       "│<span style=\"color: #7f7f7f; text-decoration-color: #7f7f7f\"> </span><span style=\"color: #7fbf7f; text-decoration-color: #7fbf7f; font-weight: bold\">csv</span><span style=\"color: #7f7f7f; text-decoration-color: #7f7f7f\">                                      </span>│           <span style=\"color: #800000; text-decoration-color: #800000\">3</span> │\n",
       "│<span style=\"color: #7f7f7f; text-decoration-color: #7f7f7f\"> </span><span style=\"color: #7fbf7f; text-decoration-color: #7fbf7f; font-weight: bold\">pickle</span><span style=\"color: #7f7f7f; text-decoration-color: #7f7f7f\">                                   </span>│           <span style=\"color: #800000; text-decoration-color: #800000\">1</span> │\n",
       "└──────────────────────────────────────────┴─────────────┘\n",
       "</pre>\n"
      ],
      "text/plain": [
       "┏━━━━━━━━━━━━━━━━━━━━━━━━━━━━━━━━━━━━━━━━━━┳━━━━━━━━━━━━━┓\n",
       "┃\u001b[1;35m \u001b[0m\u001b[1;35mFile Type                               \u001b[0m\u001b[1;35m \u001b[0m┃\u001b[1;35m \u001b[0m\u001b[1;35mTotal Files\u001b[0m\u001b[1;35m \u001b[0m┃\n",
       "┡━━━━━━━━━━━━━━━━━━━━━━━━━━━━━━━━━━━━━━━━━━╇━━━━━━━━━━━━━┩\n",
       "│\u001b[2m \u001b[0m\u001b[1;2;32mpdb\u001b[0m\u001b[2m                                     \u001b[0m\u001b[2m \u001b[0m│          \u001b[31m68\u001b[0m │\n",
       "│\u001b[2m \u001b[0m\u001b[1;2;32mtxt\u001b[0m\u001b[2m                                     \u001b[0m\u001b[2m \u001b[0m│          \u001b[31m68\u001b[0m │\n",
       "│\u001b[2m \u001b[0m\u001b[1;2;32msdf\u001b[0m\u001b[2m                                     \u001b[0m\u001b[2m \u001b[0m│          \u001b[31m14\u001b[0m │\n",
       "│\u001b[2m \u001b[0m\u001b[1;2;32mcsv\u001b[0m\u001b[2m                                     \u001b[0m\u001b[2m \u001b[0m│           \u001b[31m3\u001b[0m │\n",
       "│\u001b[2m \u001b[0m\u001b[1;2;32mpickle\u001b[0m\u001b[2m                                  \u001b[0m\u001b[2m \u001b[0m│           \u001b[31m1\u001b[0m │\n",
       "└──────────────────────────────────────────┴─────────────┘\n"
      ]
     },
     "metadata": {},
     "output_type": "display_data"
    },
    {
     "name": "stdout",
     "output_type": "stream",
     "text": [
      "Deleted the object from memory\n"
     ]
    }
   ],
   "source": [
    "main()"
   ]
  },
  {
   "cell_type": "code",
   "execution_count": null,
   "id": "42d92fc9",
   "metadata": {
    "ExecuteTime": {
     "end_time": "2021-09-07T11:15:02.978159Z",
     "start_time": "2021-09-07T11:15:02.969704Z"
    }
   },
   "outputs": [],
   "source": []
  },
  {
   "cell_type": "code",
   "execution_count": null,
   "id": "85afd875",
   "metadata": {},
   "outputs": [],
   "source": []
  }
 ],
 "metadata": {
  "kernelspec": {
   "display_name": "py37",
   "language": "python",
   "name": "py37"
  },
  "language_info": {
   "codemirror_mode": {
    "name": "ipython",
    "version": 3
   },
   "file_extension": ".py",
   "mimetype": "text/x-python",
   "name": "python",
   "nbconvert_exporter": "python",
   "pygments_lexer": "ipython3",
   "version": "3.7.11"
  },
  "toc": {
   "base_numbering": 1,
   "nav_menu": {},
   "number_sections": true,
   "sideBar": true,
   "skip_h1_title": false,
   "title_cell": "Table of Contents",
   "title_sidebar": "Contents",
   "toc_cell": false,
   "toc_position": {},
   "toc_section_display": true,
   "toc_window_display": false
  },
  "varInspector": {
   "cols": {
    "lenName": 16,
    "lenType": 16,
    "lenVar": 40
   },
   "kernels_config": {
    "python": {
     "delete_cmd_postfix": "",
     "delete_cmd_prefix": "del ",
     "library": "var_list.py",
     "varRefreshCmd": "print(var_dic_list())"
    },
    "r": {
     "delete_cmd_postfix": ") ",
     "delete_cmd_prefix": "rm(",
     "library": "var_list.r",
     "varRefreshCmd": "cat(var_dic_list()) "
    }
   },
   "types_to_exclude": [
    "module",
    "function",
    "builtin_function_or_method",
    "instance",
    "_Feature"
   ],
   "window_display": false
  }
 },
 "nbformat": 4,
 "nbformat_minor": 5
}
